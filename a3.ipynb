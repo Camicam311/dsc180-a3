{
 "cells": [
  {
   "cell_type": "code",
   "execution_count": 5,
   "metadata": {},
   "outputs": [],
   "source": [
    "%load_ext autoreload"
   ]
  },
  {
   "cell_type": "code",
   "execution_count": 6,
   "metadata": {},
   "outputs": [],
   "source": [
    "%autoreload 2"
   ]
  },
  {
   "cell_type": "code",
   "execution_count": 27,
   "metadata": {},
   "outputs": [
    {
     "name": "stdout",
     "output_type": "stream",
     "text": [
      "Usage:\n",
      "               python ./src/run.py {config_file} [process] \n"
     ]
    }
   ],
   "source": [
    "import os\n",
    "import sys\n",
    "sys.path.append('./src/')\n",
    "from utilities import *\n",
    "\n",
    "\n",
    "def main():\n",
    "    # Check argument length\n",
    "    if len(sys.argv) < 2 or len(sys.argv) > 3: \n",
    "        print('Usage:\\n\\\n",
    "               python ./src/run.py {config_file} [process] ')\n",
    "        return\n",
    "    cfg_file = sys.argv[1]\n",
    "    \n",
    "    # Make sure config file exists\n",
    "    if not os.path.exists(cfg_file):\n",
    "        print('Usage:\\n\\\n",
    "               python ./src/run.py {config_file} [process] ')\n",
    "        return\n",
    "    \n",
    "    # Load config\n",
    "    cfg = json.load(open(cfg_file))\n",
    "    \n",
    "    # Download data\n",
    "    datapath = dlcfg['datapath']\n",
    "    download(datapath, **cfg['data'])\n",
    "    \n",
    "    # Process data\n",
    "    if sys.argv[2] == 'process':\n",
    "        process(datapath, cfg['data']['ref_file'], cfg['options'])\n",
    "        \n",
    "main()"
   ]
  },
  {
   "cell_type": "code",
   "execution_count": 28,
   "metadata": {},
   "outputs": [
    {
     "name": "stdout",
     "output_type": "stream",
     "text": [
      "Copying FASTQ files...\n",
      "FASTQ files done. Time: 3 s\n",
      "Copying BAM files...\n",
      "BAM files done. Time: 0 s\n",
      "Copying VCF files...\n",
      "VCF files done. Time: 1 s\n"
     ]
    },
    {
     "ename": "TypeError",
     "evalue": "process_bam() takes 1 positional argument but 2 were given",
     "output_type": "error",
     "traceback": [
      "\u001b[0;31m\u001b[0m",
      "\u001b[0;31mTypeError\u001b[0mTraceback (most recent call last)",
      "\u001b[0;32m<ipython-input-28-c2d4592d6599>\u001b[0m in \u001b[0;36m<module>\u001b[0;34m\u001b[0m\n\u001b[1;32m      7\u001b[0m \u001b[0;34m\u001b[0m\u001b[0m\n\u001b[1;32m      8\u001b[0m \u001b[0;31m# Process data\u001b[0m\u001b[0;34m\u001b[0m\u001b[0;34m\u001b[0m\u001b[0;34m\u001b[0m\u001b[0m\n\u001b[0;32m----> 9\u001b[0;31m \u001b[0mprocess\u001b[0m\u001b[0;34m(\u001b[0m\u001b[0mdatapath\u001b[0m\u001b[0;34m,\u001b[0m \u001b[0mcfg\u001b[0m\u001b[0;34m[\u001b[0m\u001b[0;34m'data'\u001b[0m\u001b[0;34m]\u001b[0m\u001b[0;34m[\u001b[0m\u001b[0;34m'ref_file'\u001b[0m\u001b[0;34m]\u001b[0m\u001b[0;34m,\u001b[0m \u001b[0mcfg\u001b[0m\u001b[0;34m[\u001b[0m\u001b[0;34m'options'\u001b[0m\u001b[0;34m]\u001b[0m\u001b[0;34m)\u001b[0m\u001b[0;34m\u001b[0m\u001b[0;34m\u001b[0m\u001b[0m\n\u001b[0m",
      "\u001b[0;32m/datasets/home/home-00/01/001/ds180awi20ai/a3/src/utilities.py\u001b[0m in \u001b[0;36mprocess\u001b[0;34m(datapath, ref_file, options)\u001b[0m\n\u001b[1;32m     50\u001b[0m \u001b[0;34m\u001b[0m\u001b[0m\n\u001b[1;32m     51\u001b[0m     \u001b[0mprocess_fastq\u001b[0m\u001b[0;34m(\u001b[0m\u001b[0mref_file\u001b[0m\u001b[0;34m,\u001b[0m \u001b[0mdatapath\u001b[0m\u001b[0;34m)\u001b[0m\u001b[0;34m\u001b[0m\u001b[0;34m\u001b[0m\u001b[0m\n\u001b[0;32m---> 52\u001b[0;31m     \u001b[0mprocess_bam\u001b[0m\u001b[0;34m(\u001b[0m\u001b[0mref_file\u001b[0m\u001b[0;34m,\u001b[0m \u001b[0mdatapath\u001b[0m\u001b[0;34m)\u001b[0m\u001b[0;34m\u001b[0m\u001b[0;34m\u001b[0m\u001b[0m\n\u001b[0m\u001b[1;32m     53\u001b[0m     \u001b[0mprocess_vcf\u001b[0m\u001b[0;34m(\u001b[0m\u001b[0mdatapath\u001b[0m\u001b[0;34m,\u001b[0m \u001b[0;34m**\u001b[0m\u001b[0moptions\u001b[0m\u001b[0;34m)\u001b[0m\u001b[0;34m\u001b[0m\u001b[0;34m\u001b[0m\u001b[0m\n\u001b[1;32m     54\u001b[0m \u001b[0;34m\u001b[0m\u001b[0m\n",
      "\u001b[0;31mTypeError\u001b[0m: process_bam() takes 1 positional argument but 2 were given"
     ]
    }
   ],
   "source": [
    "# Load config\n",
    "cfg = json.load(open('config/data-test.json'))\n",
    "\n",
    "# Download data\n",
    "datapath = dlcfg['datapath']\n",
    "download(datapath, **cfg['data'])\n",
    "\n",
    "# Process data\n",
    "process(datapath, cfg['data']['ref_file'], cfg['options'])"
   ]
  },
  {
   "cell_type": "markdown",
   "metadata": {},
   "source": [
    "# Part 1: Steps to work with 1000 Genomes files\n",
    "- For fastq files, first must translate each individual into bam files then combine indidivudals into a vcf file using GATK\n",
    "- For bam files, must combine individuals into vcf file using GATK\n",
    "- For vcf file, can use plink2 to get PCA eigenvectors and eigenvalues then plot these PCA's and then eventually cluster "
   ]
  },
  {
   "cell_type": "markdown",
   "metadata": {},
   "source": [
    "# Part 2: Run.py\n",
    "- Works on shorter chromosomes\n",
    "- Takes a long time for longer chromosomes, need to nail down the right argument options\n",
    "- Plots the PCA\n",
    "- Wasn't sure what you meant with the data-test and process options? I used a config file to load data and process that."
   ]
  }
 ],
 "metadata": {
  "kernelspec": {
   "display_name": "Python 3",
   "language": "python",
   "name": "python3"
  },
  "language_info": {
   "codemirror_mode": {
    "name": "ipython",
    "version": 3
   },
   "file_extension": ".py",
   "mimetype": "text/x-python",
   "name": "python",
   "nbconvert_exporter": "python",
   "pygments_lexer": "ipython3",
   "version": "3.7.3"
  }
 },
 "nbformat": 4,
 "nbformat_minor": 2
}
