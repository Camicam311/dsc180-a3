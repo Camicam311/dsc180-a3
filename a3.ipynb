{
 "cells": [
  {
   "cell_type": "code",
   "execution_count": 27,
   "metadata": {},
   "outputs": [],
   "source": [
    "import numpy as np\n",
    "import pandas as pd\n",
    "import os\n",
    "import shutil\n",
    "import shlex\n",
    "import sys\n",
    "import subprocess as sp\n",
    "import time\n",
    "import matplotlib.pyplot as plt\n",
    "import seaborn as sns\n",
    "import re\n",
    "import json\n",
    "import time\n",
    "sys.path.append('./src/')\n",
    "from utilities import *\n",
    "\n",
    "\n",
    "def main():\n",
    "    if(len(sys.argv) <= 1):\n",
    "        print('Usage:\\n\\\n",
    "               python ./src/run.py [data | data-test] process')\n",
    "    for arg in sys.argv:\n",
    "        if arg == 'data':\n",
    "            data(**(json.load(open('config/data.json'))))\n",
    "        elif arg == 'data-test':\n",
    "            data_test(**(json.load(open('config/data-test.json'))))\n",
    "        elif arg == 'process':\n",
    "            process(**(json.load(open('config/process.json'))))\n",
    "    \n",
    "def data(fastq_files, bam_files, vcf_files, ref_file, datapath):\n",
    "    # Create data directories\n",
    "    if not os.path.exists(datapath):\n",
    "        os.mkdir(datapath)\n",
    "    if not os.path.exists(datapath + 'fastq_files/'):\n",
    "        os.mkdir(datapath + 'fastq_files/')\n",
    "    if not os.path.exists(datapath + 'bam_files/'):\n",
    "        os.mkdir(datapath + 'bam_files/')\n",
    "    if not os.path.exists(datapath + 'vcf_files/'):\n",
    "        os.mkdir(datapath + 'vcf_files/')\n",
    "    \n",
    "    # Copy or download data\n",
    "    procs = []\n",
    "    print(\"Copying FASTQ files...\")\n",
    "    t1 = time.time()\n",
    "    copy_fastqs(fastq_files, ref_file, datapath + 'fastq_files/')\n",
    "    t2 = time.time()\n",
    "    print(\"FASTQ files done. Time: %d\".format(t2 - t1))\n",
    "    print(\"Copying BAM files...\")\n",
    "    copy_bams(bam_files, datapath + 'bam_files/')\n",
    "    t1 = time.time()\n",
    "    print(\"BAM files done. Time: %d\".format(t1 - t2))\n",
    "    print(\"Copying VCF files...\")\n",
    "    copy_vcfs(vcf_files, datapath + 'vcf_files/')\n",
    "    t2 = time.time()\n",
    "    print(\"VCF files done. Time: %d\".format(t2 - t1))\n",
    "    \n",
    "        \n",
    "def data_test(fastq_files, bam_files, vcf_files, datapath):\n",
    "    \n",
    "    if not os.path.exists(datapath):\n",
    "        os.mkdir(datapath)\n",
    "    \n",
    "    procs = []\n",
    "    for vcf_file in cfg['vcf_files']:\n",
    "        cmd = shlex.split('cp -r ' + vcf_file + ' ' + datapath + re.findall(\"/.*|$\", vcf_file)[-1][1:])\n",
    "        proc = sp.Popen(cmd, stdout=sp.PIPE, stderr=sp.PIPE)\n",
    "        procs.append(proc)\n",
    "    \n",
    "    \n",
    "    print(\"Copying Files...\")\n",
    "    copytime = 0\n",
    "    while procs[-1].poll() == None:\n",
    "        time.sleep(1)\n",
    "        copytime += 1\n",
    "        loadingstr = 'Copying'\n",
    "        for i in range(copytime % 3):\n",
    "            loadingstr += '.'\n",
    "        print(loadingstr, end = '\\r')\n",
    "    print('                ', end = '\\r')\n",
    "    print('Done')\n",
    "        \n",
    "def process():\n",
    "    \n",
    "    cfg = json.load(open('config/process.json'))\n",
    "    datapath = cfg['datapath']\n",
    "    outpath = cfg['outpath']\n",
    "    path_to_plink = cfg['path_to_plink']\n",
    "    os.makedirs(outpath + 'plots/', exist_ok=True)\n",
    "    \n",
    "        \n",
    "main()"
   ]
  },
  {
   "cell_type": "code",
   "execution_count": null,
   "metadata": {},
   "outputs": [],
   "source": [
    "data(**(json.load(open('config/data.json'))))"
   ]
  },
  {
   "cell_type": "code",
   "execution_count": null,
   "metadata": {},
   "outputs": [],
   "source": [
    "data_test(**(json.load(open('config/data-test.json'))))"
   ]
  },
  {
   "cell_type": "code",
   "execution_count": null,
   "metadata": {},
   "outputs": [],
   "source": [
    "process(**(json.load(open('config/process.json'))))"
   ]
  },
  {
   "cell_type": "markdown",
   "metadata": {},
   "source": [
    "# Part 1: Steps to work with 1000 Genomes files\n",
    "- For fastq files, first must translate each individual into bam files then combine indidivudals into a vcf file using GATK\n",
    "- For bam files, must combine individuals into vcf file using GATK\n",
    "- For vcf file, can use plink2 to get PCA eigenvectors and eigenvalues then plot these PCA's and then eventually cluster "
   ]
  },
  {
   "cell_type": "markdown",
   "metadata": {},
   "source": [
    "# Part 2: Run.py\n",
    "- Works on shorter chromosomes\n",
    "- Takes a long time for longer chromosomes, need to nail down the right argument options\n",
    "- Plots the PCA\n",
    "- Wasn't sure what you meant with the data-test and process options? I used a config file to load data and process that."
   ]
  }
 ],
 "metadata": {
  "kernelspec": {
   "display_name": "Python 3",
   "language": "python",
   "name": "python3"
  },
  "language_info": {
   "codemirror_mode": {
    "name": "ipython",
    "version": 3
   },
   "file_extension": ".py",
   "mimetype": "text/x-python",
   "name": "python",
   "nbconvert_exporter": "python",
   "pygments_lexer": "ipython3",
   "version": "3.7.1"
  }
 },
 "nbformat": 4,
 "nbformat_minor": 2
}
